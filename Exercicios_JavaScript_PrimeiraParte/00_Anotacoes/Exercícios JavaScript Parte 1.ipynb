{
 "cells": [
  {
   "cell_type": "markdown",
   "id": "fdf50660",
   "metadata": {},
   "source": [
    "### Anotações das aulas de Java Script\n",
    "\n",
    "https://www.youtube.com/watch?v=ggm5Kvfe7gQ&list=PLGWM6mVGOFZ79BJ93G-FQqoFb6zbmbX0O&index=8"
   ]
  },
  {
   "cell_type": "markdown",
   "id": "dd25820e",
   "metadata": {},
   "source": [
    "- Sobre o conteudo do curso\n",
    "\n",
    "![Sobre o conteudo do curso](01_Introducao.GIF)"
   ]
  },
  {
   "cell_type": "markdown",
   "id": "af889185",
   "metadata": {},
   "source": [
    "### O que é JavaScript?\n",
    "\n",
    "- Uma linguagem de alto nível(mais próximo do usuário).\n",
    "- Criada para páginas web.\n",
    "- Orientada a objetos.\n",
    "- Nomes Comuns: JavaScript, JS, Vanilla JavaScript, e ECMA JavaScript\n",
    "- Just-in-Time\n",
    "- A linguagem foi criada em 1955"
   ]
  },
  {
   "cell_type": "markdown",
   "id": "ad4fc8dc",
   "metadata": {},
   "source": [
    "-------------------------------------------------------------------------------------------------------------------------------"
   ]
  },
  {
   "cell_type": "markdown",
   "id": "8ab31c31",
   "metadata": {},
   "source": [
    "### Como surgiu a linguagem JavaScript?\n",
    "\n",
    "A linguagem JavaScript não foi criada em uma única ocasião, mas sim através de um processo de desenvolvimento evolutivo ao longo do tempo. Aqui está um resumo da história por trás da criação da linguagem JavaScript:\n",
    "\n",
    "1.**Necessidade de Interação nas Páginas Web:** No ínicio dos anos 1990, a web era basicamente composta por documentos estáticos em HTML, sem muita interatividade.\n",
    "Houve um desejo crescente de tornar as páginas mais dinámicas e interativas.\n",
    "\n",
    "2.**Mocha:** Em 1995, Marc Andreessen, co-fundador da Netscape, viu a necessidade de adicionar algum nível de interatividade às páginas web. A Netscape contratou Brendan Eich para desenvolver uma linguagem de script para esse propósito. A primeira versão foi chamada de \"Mocha\", que posteriormente foi renomeada para \"LiveScript\".\n",
    "\n",
    "3.**Parceria com a Sum Microsystems:** Durante esse mesmo período, a Netscape fez uma parceria com a Sun Microsystems, que estava promovendo a linguagem Java. Como resultado, houve uma renomeação estratégica da linguagem \"LiveScript\" para \"JavaScript\" para capitalizar a popularidade crescente da linguagem Java na época. No entanto, é importante destacar que as duas linguagens não estão diretamente relacionadas, apesar do nome similar.\n",
    "\n",
    "4.**Padronização pela ECMA:** Para tornar o JavaScript uma linguagem de desenvolvimento web mais estável e amplamente aceita, a Netscape submeteu o JavaScript à European Computer Manufactures Association(ECMA), uma associação de padronização. Isso resultou na criação de um padrão para a linguagem chamada \"ECMAScript\". O JavaScript é a implementação mais conhecida do padrão ECMAScript.\n",
    "\n",
    "5.**Expansão e Evolução:** À medida que a web cresceu em popularidade e complexidade, a linguagem JavaScript também evoluiu. Houve várias versões do padrão ECMAScripts, cada uma introduzindo novos recursos e melhorias na linguagem. Além disso, várias bibliotecas e frameworks, como jQuery, Angular, React e Vue.js, foram desenvolvidos para facilitar o desenvolvimento web utilizando JavaScript.\n",
    "\n",
    "O JavaScript se tornou uma das linguagens de programação mais amplamente utilizadas e é essencial para o desenvolvimento de aplicações web interativas e dinâmicas. Sua evolução contínua e crescente adoção de tecnologias relacionadas o mantêm no cenário do desenvolvimento web."
   ]
  },
  {
   "cell_type": "markdown",
   "id": "46484320",
   "metadata": {},
   "source": [
    "-------------------------------------------------------------------------------------------------------------------------------"
   ]
  },
  {
   "cell_type": "markdown",
   "id": "afd96cac",
   "metadata": {},
   "source": [
    "### Estrutura do Projeto"
   ]
  },
  {
   "cell_type": "markdown",
   "id": "531b98a4",
   "metadata": {},
   "source": [
    "![.](02_Estrutura_Projeto.GIF)"
   ]
  },
  {
   "cell_type": "markdown",
   "id": "a7a97801",
   "metadata": {},
   "source": [
    "- Verificando JavaScript no Inspecionar Console"
   ]
  },
  {
   "cell_type": "markdown",
   "id": "491ec6f2",
   "metadata": {},
   "source": [
    "Ná página selecionar com o botão direito / Inspecionar\n"
   ]
  },
  {
   "cell_type": "markdown",
   "id": "2bba4280",
   "metadata": {},
   "source": [
    "![.](03_Inspecionar.GIF)"
   ]
  },
  {
   "cell_type": "markdown",
   "id": "168ac721",
   "metadata": {},
   "source": [
    "![.](04_Console.GIF)"
   ]
  },
  {
   "cell_type": "markdown",
   "id": "c591881c",
   "metadata": {},
   "source": [
    "![.](05_JavaScript_Externo.GIF)"
   ]
  },
  {
   "cell_type": "markdown",
   "id": "1f7467b0",
   "metadata": {},
   "source": [
    "### Principais Tipos de Dados"
   ]
  },
  {
   "cell_type": "markdown",
   "id": "c3accc26",
   "metadata": {},
   "source": [
    "![.](06_Tipos_Dados.GIF)"
   ]
  },
  {
   "cell_type": "markdown",
   "id": "dbe960e5",
   "metadata": {},
   "source": [
    "------------------------------------------------------------------------------------------------------------------------------"
   ]
  },
  {
   "cell_type": "markdown",
   "id": "48c3732e",
   "metadata": {},
   "source": [
    "- Verificando tipos de Dados"
   ]
  },
  {
   "cell_type": "markdown",
   "id": "a61ab390",
   "metadata": {},
   "source": [
    "![.](07_TipoDados.GIF)"
   ]
  },
  {
   "cell_type": "markdown",
   "id": "f0bf588d",
   "metadata": {},
   "source": [
    "![.](08_Console_Tipos_Dados.GIF)"
   ]
  },
  {
   "cell_type": "markdown",
   "id": "1089a79f",
   "metadata": {},
   "source": [
    "------------------------------------------------------------------------------------------------------------------------------"
   ]
  },
  {
   "cell_type": "markdown",
   "id": "0bf1889a",
   "metadata": {},
   "source": [
    "- Verificando operações aritméticas"
   ]
  },
  {
   "cell_type": "markdown",
   "id": "00ab4d1d",
   "metadata": {},
   "source": [
    "![.](09_Operacoes_Aritmeticas.GIF)"
   ]
  },
  {
   "cell_type": "markdown",
   "id": "ff0d139f",
   "metadata": {},
   "source": [
    "![.](10_Console_OperAritmaticas.GIF)"
   ]
  },
  {
   "cell_type": "markdown",
   "id": "4d4ae26c",
   "metadata": {},
   "source": [
    "-------------------------------------------------------------------------------------------------------------------------------"
   ]
  },
  {
   "cell_type": "markdown",
   "id": "e5334565",
   "metadata": {},
   "source": [
    "- Strings"
   ]
  },
  {
   "cell_type": "markdown",
   "id": "5c10aed1",
   "metadata": {},
   "source": [
    "![.](11_Strings.GIF)"
   ]
  },
  {
   "cell_type": "markdown",
   "id": "df70cf02",
   "metadata": {},
   "source": [
    "![.](12_Console_Strings.GIF)"
   ]
  },
  {
   "cell_type": "markdown",
   "id": "7b8e9b53",
   "metadata": {},
   "source": [
    "https://www.youtube.com/watch?v=ggm5Kvfe7gQ&list=PLGWM6mVGOFZ79BJ93G-FQqoFb6zbmbX0O&index=8 "
   ]
  },
  {
   "cell_type": "markdown",
   "id": "4b44bb95",
   "metadata": {},
   "source": [
    "--------------------------------------------------------------------------------------------------------------------------"
   ]
  },
  {
   "cell_type": "markdown",
   "id": "028b226b",
   "metadata": {},
   "source": [
    "- Special Number"
   ]
  },
  {
   "cell_type": "markdown",
   "id": "33927880",
   "metadata": {},
   "source": [
    "![.](13_Special_Number.GIF)"
   ]
  },
  {
   "cell_type": "markdown",
   "id": "dc601de2",
   "metadata": {},
   "source": [
    "![.](14_Special_Console.GIF)"
   ]
  },
  {
   "cell_type": "markdown",
   "id": "6ebecd31",
   "metadata": {},
   "source": [
    "-----------------------------------------------------------------------------------------------------------------------------"
   ]
  },
  {
   "cell_type": "markdown",
   "id": "b8361851",
   "metadata": {},
   "source": [
    "- Tipo de dado Boolean"
   ]
  },
  {
   "cell_type": "markdown",
   "id": "4f1ab243",
   "metadata": {},
   "source": [
    "![.](15_Tipo_Dado_Boolean.GIF)"
   ]
  },
  {
   "cell_type": "markdown",
   "id": "dea8c8f4",
   "metadata": {},
   "source": [
    "![.](16_Boolean_Console.GIF)"
   ]
  },
  {
   "cell_type": "markdown",
   "id": "a593b359",
   "metadata": {},
   "source": [
    "------------------------------------------------------------------------------------------------------------------------------"
   ]
  },
  {
   "cell_type": "markdown",
   "id": "d352d3c9",
   "metadata": {},
   "source": [
    "- Comparações com Boolean"
   ]
  },
  {
   "cell_type": "markdown",
   "id": "6cc737d2",
   "metadata": {},
   "source": [
    "![.](17_Comparacoes_Booleano.GIF)"
   ]
  },
  {
   "cell_type": "markdown",
   "id": "32c2ca6c",
   "metadata": {},
   "source": [
    "![.](18_Comp_Bool_Console.GIF)"
   ]
  },
  {
   "cell_type": "markdown",
   "id": "faa168ee",
   "metadata": {},
   "source": [
    "- **Boolean:** Operadores Lógicos"
   ]
  },
  {
   "cell_type": "markdown",
   "id": "95230e05",
   "metadata": {},
   "source": [
    "![.](19_Oper_Logicos.GIF)"
   ]
  },
  {
   "cell_type": "markdown",
   "id": "b5d05eee",
   "metadata": {},
   "source": [
    "![.](20_Oper_Logicos_Console.GIF)"
   ]
  },
  {
   "cell_type": "markdown",
   "id": "cecd00dd",
   "metadata": {},
   "source": [
    "---------------------------------------------------------------------------------------------------------------------------"
   ]
  },
  {
   "cell_type": "markdown",
   "id": "8517cc8e",
   "metadata": {},
   "source": [
    "- **Boolean:** Operador Tenários"
   ]
  },
  {
   "cell_type": "markdown",
   "id": "b2c1424b",
   "metadata": {},
   "source": [
    "![.](21_Oper_Ternarios.GIF)"
   ]
  },
  {
   "cell_type": "markdown",
   "id": "b7d6cb39",
   "metadata": {},
   "source": [
    "![.](22_Ternario_Console.GIF)"
   ]
  },
  {
   "cell_type": "markdown",
   "id": "afcdd74c",
   "metadata": {},
   "source": [
    "------------------------------------------------------------------------------------------------------------------"
   ]
  },
  {
   "cell_type": "markdown",
   "id": "91371a81",
   "metadata": {},
   "source": [
    "- **Tipo de dados Empty Values**"
   ]
  },
  {
   "cell_type": "markdown",
   "id": "e71acfd0",
   "metadata": {},
   "source": [
    "![.](23_EmptyValues.GIF)"
   ]
  },
  {
   "cell_type": "markdown",
   "id": "f7a7b7d3",
   "metadata": {},
   "source": [
    "----------------------------------------------------------------------------------------------------------------------------"
   ]
  },
  {
   "cell_type": "markdown",
   "id": "58daa9ca",
   "metadata": {},
   "source": [
    "- Conversão de tipo de dados automática"
   ]
  },
  {
   "cell_type": "markdown",
   "id": "53f42321",
   "metadata": {},
   "source": [
    "![.](24_Conversao_Tipo_Automatico.GIF)"
   ]
  },
  {
   "cell_type": "markdown",
   "id": "d5d83701",
   "metadata": {},
   "source": [
    "![.](25_Convers_Tipo_Automatico.GIF)"
   ]
  },
  {
   "cell_type": "markdown",
   "id": "e3375a57",
   "metadata": {},
   "source": [
    "---------------------------------------------------------------------------------------------------------------------------"
   ]
  }
 ],
 "metadata": {
  "kernelspec": {
   "display_name": "Python 3 (ipykernel)",
   "language": "python",
   "name": "python3"
  },
  "language_info": {
   "codemirror_mode": {
    "name": "ipython",
    "version": 3
   },
   "file_extension": ".py",
   "mimetype": "text/x-python",
   "name": "python",
   "nbconvert_exporter": "python",
   "pygments_lexer": "ipython3",
   "version": "3.9.13"
  }
 },
 "nbformat": 4,
 "nbformat_minor": 5
}
