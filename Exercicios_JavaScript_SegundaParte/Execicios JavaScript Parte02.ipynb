{
 "cells": [
  {
   "cell_type": "markdown",
   "id": "43f59edd",
   "metadata": {},
   "source": [
    "### Estrutura de funções em JavaScript"
   ]
  },
  {
   "cell_type": "markdown",
   "id": "f8177f66",
   "metadata": {},
   "source": [
    "- Utilizando função built-in: Prompt"
   ]
  },
  {
   "cell_type": "markdown",
   "id": "d7ad6981",
   "metadata": {},
   "source": [
    "![.](03_Funcao_BuiltIn_log.GIF)"
   ]
  },
  {
   "cell_type": "markdown",
   "id": "f23f85f8",
   "metadata": {},
   "source": [
    "![.](02_Funcao_BuiltinRetorno.GIF)"
   ]
  },
  {
   "cell_type": "markdown",
   "id": "0cba168d",
   "metadata": {},
   "source": [
    "![.](04_Funcao_BuiltIn_Console.GIF)"
   ]
  },
  {
   "cell_type": "markdown",
   "id": "e2258bc4",
   "metadata": {},
   "source": [
    "- Utilizando função Built in Math"
   ]
  },
  {
   "cell_type": "markdown",
   "id": "30fdac3b",
   "metadata": {},
   "source": [
    "![.](05_Funcao_Math.GIF)"
   ]
  },
  {
   "cell_type": "markdown",
   "id": "8bf48120",
   "metadata": {},
   "source": [
    "-------------------------------------------------------------------------------------------------------------------------------"
   ]
  },
  {
   "cell_type": "markdown",
   "id": "0611e955",
   "metadata": {},
   "source": [
    "### Estrutura Condicional - if"
   ]
  },
  {
   "cell_type": "markdown",
   "id": "7ca5c4ca",
   "metadata": {},
   "source": [
    "![.](06_EstruturaCondicionalCodigo.GIF)"
   ]
  },
  {
   "cell_type": "markdown",
   "id": "bbdb0c51",
   "metadata": {},
   "source": [
    "![.](07_EstruturaCondicional_Console.GIF)"
   ]
  },
  {
   "cell_type": "markdown",
   "id": "c8fee4f0",
   "metadata": {},
   "source": [
    "- Estrutura Condicional if/else"
   ]
  },
  {
   "cell_type": "markdown",
   "id": "f0aa8de0",
   "metadata": {},
   "source": [
    "![.](08_If_Else_Codigo.GIF)"
   ]
  },
  {
   "cell_type": "markdown",
   "id": "b994ae5c",
   "metadata": {},
   "source": [
    "![.](09_IfElseConsole.GIF)"
   ]
  },
  {
   "cell_type": "markdown",
   "id": "1dce5527",
   "metadata": {},
   "source": [
    "- Estrutura condicional Else if"
   ]
  },
  {
   "cell_type": "markdown",
   "id": "0bc2dfde",
   "metadata": {},
   "source": [
    "![.](10_elseIF.GIF)"
   ]
  },
  {
   "cell_type": "markdown",
   "id": "0eda537e",
   "metadata": {},
   "source": [
    "![.](11_elseIf_console.GIF)"
   ]
  },
  {
   "cell_type": "markdown",
   "id": "d73b9df0",
   "metadata": {},
   "source": [
    "- Estrutura condicional If com If"
   ]
  },
  {
   "cell_type": "markdown",
   "id": "f8213408",
   "metadata": {},
   "source": [
    "![.](12_Codigo_if_com_if.GIF)"
   ]
  },
  {
   "cell_type": "markdown",
   "id": "fc384587",
   "metadata": {},
   "source": [
    "- Estrutura de repetição: WHILE"
   ]
  },
  {
   "cell_type": "markdown",
   "id": "fea7cf3a",
   "metadata": {},
   "source": [
    "![.](13_Estrutura_Repeticao.GIF)"
   ]
  },
  {
   "cell_type": "markdown",
   "id": "7028e50f",
   "metadata": {},
   "source": [
    "![.](14_Estru_Repeticao_While.GIF)"
   ]
  },
  {
   "cell_type": "markdown",
   "id": "ba7f35b7",
   "metadata": {},
   "source": [
    "- Estrutura de repetição: FOR"
   ]
  },
  {
   "cell_type": "markdown",
   "id": "66fef856",
   "metadata": {},
   "source": [
    "![.](15_Estru_Repeticao_FOR.GIF)"
   ]
  },
  {
   "cell_type": "code",
   "execution_count": null,
   "id": "7502e7a7",
   "metadata": {},
   "outputs": [],
   "source": []
  }
 ],
 "metadata": {
  "kernelspec": {
   "display_name": "Python 3 (ipykernel)",
   "language": "python",
   "name": "python3"
  },
  "language_info": {
   "codemirror_mode": {
    "name": "ipython",
    "version": 3
   },
   "file_extension": ".py",
   "mimetype": "text/x-python",
   "name": "python",
   "nbconvert_exporter": "python",
   "pygments_lexer": "ipython3",
   "version": "3.9.13"
  }
 },
 "nbformat": 4,
 "nbformat_minor": 5
}
