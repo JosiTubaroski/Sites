{
 "cells": [
  {
   "cell_type": "markdown",
   "id": "e6e66de1",
   "metadata": {},
   "source": [
    "https://www.youtube.com/watch?v=fmhz4nqGK4E"
   ]
  },
  {
   "cell_type": "markdown",
   "id": "83c0ab4f",
   "metadata": {},
   "source": [
    "### Criando um Projeto HTML no Visual Studio Code"
   ]
  },
  {
   "cell_type": "markdown",
   "id": "d16f8c60",
   "metadata": {},
   "source": [
    "**1** - Criar uma pasta para guardar o projeto."
   ]
  },
  {
   "cell_type": "markdown",
   "id": "f5cab193",
   "metadata": {},
   "source": [
    "![.](01_CriarPasta.GIF)"
   ]
  },
  {
   "cell_type": "markdown",
   "id": "79e6f485",
   "metadata": {},
   "source": [
    "**Exemplo:** C:\\API_GITHUB\\javascript\\GITHUB"
   ]
  },
  {
   "cell_type": "markdown",
   "id": "03021033",
   "metadata": {},
   "source": [
    "**2 -** Selecionar a Pasta no Visual Studio Code"
   ]
  },
  {
   "cell_type": "markdown",
   "id": "6d31d71d",
   "metadata": {},
   "source": [
    "![.](02_Acessar_Pasta.GIF)"
   ]
  },
  {
   "cell_type": "markdown",
   "id": "fd56d793",
   "metadata": {},
   "source": [
    "**3.** Criar o arquivo index.html"
   ]
  },
  {
   "cell_type": "markdown",
   "id": "b972ad01",
   "metadata": {},
   "source": [
    "![.](03_Index_HTML.GIF)"
   ]
  },
  {
   "cell_type": "markdown",
   "id": "3f9f429a",
   "metadata": {},
   "source": [
    "O arquivo foi gerado na pasta do projeto."
   ]
  },
  {
   "cell_type": "markdown",
   "id": "f89743c1",
   "metadata": {},
   "source": [
    "![.](04_Arquivo_Pasta.GIF)"
   ]
  },
  {
   "cell_type": "markdown",
   "id": "343c2b9a",
   "metadata": {},
   "source": [
    "**4** - Para Criar uma estrutura basica selecionar ! e enter no arquivo index.html"
   ]
  },
  {
   "cell_type": "markdown",
   "id": "4ad5e5a0",
   "metadata": {},
   "source": [
    "![.](05_Estrutura_BasicaHTML.GIF)"
   ]
  },
  {
   "cell_type": "markdown",
   "id": "613706e1",
   "metadata": {},
   "source": [
    "**5** - Começar a construção do projeto"
   ]
  },
  {
   "cell_type": "markdown",
   "id": "4ac12fbb",
   "metadata": {},
   "source": [
    "![.](06_Comecando_HTML.GIF)"
   ]
  },
  {
   "cell_type": "markdown",
   "id": "eb90834c",
   "metadata": {},
   "source": [
    "**6** - Incluindo a extensão Live Server"
   ]
  },
  {
   "cell_type": "markdown",
   "id": "99fece1f",
   "metadata": {},
   "source": [
    "![.](07_Extensao.GIF)"
   ]
  },
  {
   "cell_type": "markdown",
   "id": "fa1ed1ba",
   "metadata": {},
   "source": [
    "![.](08_Instalando.GIF)"
   ]
  },
  {
   "cell_type": "markdown",
   "id": "0f52a1b1",
   "metadata": {},
   "source": [
    "**7** - Após a instalação abrir com o live server"
   ]
  },
  {
   "cell_type": "markdown",
   "id": "a065433b",
   "metadata": {},
   "source": [
    "![.](09_Open_LiveServer.GIF)"
   ]
  },
  {
   "cell_type": "markdown",
   "id": "c55d8854",
   "metadata": {},
   "source": [
    "Será aberto o browser com a apresentação do .html"
   ]
  },
  {
   "cell_type": "markdown",
   "id": "0f7ea0eb",
   "metadata": {},
   "source": [
    "**8** - Criação do arquivo .css"
   ]
  },
  {
   "cell_type": "markdown",
   "id": "6abf189f",
   "metadata": {},
   "source": [
    "![.](10_Criar_Arquivo.GIF)"
   ]
  },
  {
   "cell_type": "markdown",
   "id": "75b5c4c3",
   "metadata": {},
   "source": [
    "Para criação do arquivo selecionar Ctrl + click"
   ]
  },
  {
   "cell_type": "markdown",
   "id": "04ac6b9f",
   "metadata": {},
   "source": [
    "**9** - Criação do arquivo scripts.js"
   ]
  },
  {
   "cell_type": "markdown",
   "id": "4179af95",
   "metadata": {},
   "source": [
    "![.](11_Criar_ArquivoJS.GIF)"
   ]
  },
  {
   "cell_type": "markdown",
   "id": "ad0b9cdf",
   "metadata": {},
   "source": [
    "Selecionar Ctrl + Click"
   ]
  },
  {
   "cell_type": "markdown",
   "id": "555016b8",
   "metadata": {},
   "source": [
    "**10** - Selecionar 'Create File'"
   ]
  },
  {
   "cell_type": "markdown",
   "id": "cdbe36fe",
   "metadata": {},
   "source": [
    "![.](12_Selecionar_CreateFile.GIF)"
   ]
  },
  {
   "cell_type": "code",
   "execution_count": null,
   "id": "bc933fd3",
   "metadata": {},
   "outputs": [],
   "source": []
  }
 ],
 "metadata": {
  "kernelspec": {
   "display_name": "Python 3 (ipykernel)",
   "language": "python",
   "name": "python3"
  },
  "language_info": {
   "codemirror_mode": {
    "name": "ipython",
    "version": 3
   },
   "file_extension": ".py",
   "mimetype": "text/x-python",
   "name": "python",
   "nbconvert_exporter": "python",
   "pygments_lexer": "ipython3",
   "version": "3.9.13"
  }
 },
 "nbformat": 4,
 "nbformat_minor": 5
}
